{
 "cells": [
  {
   "cell_type": "code",
   "execution_count": null,
   "id": "97367cf6",
   "metadata": {},
   "outputs": [],
   "source": [
    "import numpy as np\n",
    "import pandas as pd\n",
    "from numpy import where"
   ]
  },
  {
   "cell_type": "code",
   "execution_count": null,
   "id": "acb4d82a",
   "metadata": {},
   "outputs": [],
   "source": [
    "applications = pd.read_csv(\n",
    "    r'C:\\Users\\PC\\Desktop\\tech_stuff\\Studying\\Python\\GoIT_course\\HW 4-5\\applications(2.0).csv',\n",
    "    sep=None,\n",
    "    header=0,\n",
    "    engine='python',\n",
    "    names=['applied_date', 'amount', 'age', 'gender', 'industry', 'status', 'ext_rating', 'ed_level', 'loc', 'id']\n",
    ")\n",
    "\n",
    "applications_df = pd.DataFrame(applications)\n",
    "\n",
    "print(applications_df.head())"
   ]
  },
  {
   "cell_type": "code",
   "execution_count": null,
   "id": "844119eb",
   "metadata": {},
   "outputs": [],
   "source": [
    "industries = pd.read_csv(\n",
    "    r\"C:\\Users\\PC\\Desktop\\tech_stuff\\Studying\\Python\\GoIT_course\\HW 4-5\\industries(2.0).csv\",\n",
    "    sep=None,\n",
    "    header=0,\n",
    "    engine='python',\n",
    "    names=['industry', 'ind_score']\n",
    ")\n",
    "\n",
    "industries_df = pd.DataFrame(industries)\n",
    "\n",
    "print(industries_df.head())"
   ]
  },
  {
   "cell_type": "code",
   "execution_count": null,
   "id": "4d45d508",
   "metadata": {},
   "outputs": [],
   "source": [
    "#1 Прибери дублікати applicant_id\n",
    "# В полі 'External Rating' заповни відсутні значення нулями\n",
    "# В полі 'Education level' заповни відсутні значення текстом “Середня”\n",
    "\n",
    "app_no_dubs_df = applications_df.drop_duplicates(\n",
    "    subset='id',\n",
    "    keep='first',\n",
    "    inplace=False\n",
    ")\n",
    "\n",
    "print(app_no_dubs_df.head())"
   ]
  },
  {
   "cell_type": "code",
   "execution_count": null,
   "id": "98ed67c7",
   "metadata": {},
   "outputs": [],
   "source": [
    "apps_ext_rat_ed_level_no_nan_df = app_no_dubs_df.copy()\n",
    "\n",
    "apps_ext_rat_ed_level_no_nan_df[['ext_rating', 'ed_level']] = app_no_dubs_df[['ext_rating', 'ed_level']].fillna(\n",
    "    value={'ext_rating': 0, 'ed_level': 'Середня'},\n",
    "    inplace=False\n",
    ")\n",
    "\n",
    "print(apps_ext_rat_ed_level_no_nan_df)"
   ]
  },
  {
   "cell_type": "code",
   "execution_count": null,
   "id": "a26b7ff2",
   "metadata": {},
   "outputs": [],
   "source": [
    "# Answer:\n",
    "\n",
    "nan_count = apps_ext_rat_ed_level_no_nan_df[['ext_rating', 'ed_level']].isna().sum()\n",
    "cleaned_applications_df = apps_ext_rat_ed_level_no_nan_df.copy()\n",
    "print(cleaned_applications_df)"
   ]
  },
  {
   "cell_type": "code",
   "execution_count": null,
   "id": "6a851e28",
   "metadata": {},
   "outputs": [],
   "source": [
    "#2 Додай до цього DataFrame дані з файлу industries.csv, а саме, рейтинги індустрій.\n",
    "\n",
    "merged_df = pd.merge(\n",
    "    cleaned_applications_df, industries,\n",
    "    how='left',\n",
    "    on='industry',\n",
    ")"
   ]
  },
  {
   "cell_type": "code",
   "execution_count": null,
   "id": "83021e30",
   "metadata": {},
   "outputs": [],
   "source": [
    "# alternative - to use inner \n",
    "\n",
    "merged_df12 = pd.merge(\n",
    "    cleaned_applications_df, industries,\n",
    "    how='inner',\n",
    "    on='industry',\n",
    ")\n",
    "\n",
    "print(merged_df12.head(30))"
   ]
  },
  {
   "cell_type": "code",
   "execution_count": null,
   "id": "d18e6b66",
   "metadata": {},
   "outputs": [],
   "source": [
    "# Answer:\n",
    "\n",
    "print(merged_df.head())"
   ]
  },
  {
   "cell_type": "code",
   "execution_count": null,
   "id": "4d9fff03",
   "metadata": {},
   "outputs": [],
   "source": [
    "#3 Розрахуй рейтинг заявки\n",
    "\n",
    "merged_df_rating = merged_df.copy()\n",
    "\n",
    "merged_df_rating['app_date_proper'] = pd.to_datetime(merged_df_rating['applied_date'], errors='coerce')\n",
    "print(merged_df_rating.head())\n",
    "print(merged_df_rating.dtypes)"
   ]
  },
  {
   "cell_type": "code",
   "execution_count": null,
   "id": "7e17410a",
   "metadata": {},
   "outputs": [],
   "source": [
    "merged_df_rating['cond1_b'] = merged_df_rating['amount'].isna()\n",
    "merged_df_rating['cond2_b'] = merged_df_rating['ext_rating'] == 0\n",
    "merged_df_rating['cond3_b'] = (merged_df_rating['age'] >= 35) & (merged_df_rating['age'] <= 55)\n",
    "merged_df_rating['cond4_b'] = merged_df_rating['loc'] == 'Київ чи область'\n",
    "merged_df_rating['cond5_b'] = merged_df_rating['ext_rating'] >= 7\n",
    "merged_df_rating['cond6_b'] = merged_df_rating['app_date_proper'].dt.weekday < 5\n",
    "merged_df_rating['cond7_b'] = merged_df_rating['ext_rating'] >= 7\n",
    "merged_df_rating['cond8_b'] = merged_df_rating['ext_rating'] <= 2\n",
    "print(merged_df_rating.head())"
   ]
  },
  {
   "cell_type": "code",
   "execution_count": null,
   "id": "e5216dcd",
   "metadata": {},
   "outputs": [],
   "source": [
    "merged_df_rating['cond1'] = merged_df_rating['cond1_b'] * 1\n",
    "merged_df_rating['cond2'] = merged_df_rating['cond2_b'] * 1\n",
    "merged_df_rating['cond3'] = merged_df_rating['cond3_b'] * 20\n",
    "merged_df_rating['cond4'] = merged_df_rating['cond4_b'] * 10\n",
    "merged_df_rating['cond5'] = merged_df_rating['cond5_b'] * 20\n",
    "merged_df_rating['cond6'] = merged_df_rating['cond6_b'] * 20\n",
    "merged_df_rating['cond7'] = merged_df_rating['cond7_b'] * 20\n",
    "merged_df_rating['cond8'] = merged_df_rating['cond8_b'] * -20\n",
    "\n",
    "print(merged_df_rating[['cond1', 'cond2', 'cond3', 'cond4', 'cond5', 'cond6', 'cond7', 'cond8', 'ind_score']].head(30))"
   ]
  },
  {
   "cell_type": "code",
   "execution_count": null,
   "id": "807e6b44",
   "metadata": {},
   "outputs": [],
   "source": [
    "merged_df_rating['app_rating'] = where(\n",
    "    (merged_df_rating['cond1'] == 1) | (merged_df_rating['cond2'] == 1),\n",
    "    0,\n",
    "    merged_df_rating['cond3'] + \n",
    "    merged_df_rating['cond4'] + \n",
    "    merged_df_rating['cond5'] +\n",
    "    merged_df_rating['cond6'] + \n",
    "    merged_df_rating['cond7'] + \n",
    "    merged_df_rating['cond8'] + \n",
    "    merged_df_rating['ind_score']\n",
    ")"
   ]
  },
  {
   "cell_type": "code",
   "execution_count": null,
   "id": "4d59f5ab",
   "metadata": {},
   "outputs": [],
   "source": [
    "# Answer:\n",
    "\n",
    "print(merged_df_rating.head(40))"
   ]
  },
  {
   "cell_type": "code",
   "execution_count": null,
   "id": "59deae86",
   "metadata": {},
   "outputs": [],
   "source": [
    "#4 В результуючій таблиці залиш лише заявки з рейтингом більше нуля, ці заявки вважатимуться прийнятими.\n",
    "\n",
    "merged_df_rating['app_rating'] = where(\n",
    "    merged_df_rating['app_rating'] > 100,\n",
    "    100,\n",
    "    merged_df_rating['app_rating']\n",
    ")\n",
    "\n",
    "print(merged_df_rating['app_rating'].head(50))"
   ]
  },
  {
   "cell_type": "code",
   "execution_count": null,
   "id": "74790a45",
   "metadata": {},
   "outputs": [],
   "source": [
    "merged_df_rating = merged_df_rating.sort_values('app_rating', ascending = False)\n",
    "print(merged_df_rating['app_rating'].head(50))"
   ]
  },
  {
   "cell_type": "code",
   "execution_count": null,
   "id": "ad269719",
   "metadata": {},
   "outputs": [],
   "source": [
    "merged_df_4 = merged_df_rating[merged_df_rating['app_rating'] > 0]\n",
    "print(merged_df_4['app_rating'].tail(20))"
   ]
  },
  {
   "cell_type": "code",
   "execution_count": null,
   "id": "49436a83",
   "metadata": {},
   "outputs": [],
   "source": [
    "merged_df_4 = merged_df_4.copy()\n",
    "\n",
    "\n",
    "merged_df_4.drop(columns=[\n",
    "    'cond3', 'cond4', 'cond5', 'cond6', 'cond7', 'cond8',\n",
    "    'cond1', 'cond2', 'cond1_b', 'cond2_b', 'applied_date',\n",
    "    'cond3_b', 'cond4_b', 'cond5_b', 'cond6_b', 'cond7_b', 'cond8_b'\n",
    "], inplace=True)"
   ]
  },
  {
   "cell_type": "code",
   "execution_count": null,
   "id": "16e2a681",
   "metadata": {},
   "outputs": [],
   "source": [
    "# Answer:\n",
    "\n",
    "print(merged_df_4.head(40))"
   ]
  },
  {
   "cell_type": "code",
   "execution_count": null,
   "id": "b8f18f06",
   "metadata": {},
   "outputs": [],
   "source": [
    "#5 Дані з результуючої таблиці згрупуй за тижнем подачі заявки, \n",
    "# та виведи середній рейтинг прийнятих заявок у кожен тиждень.\n",
    "\n",
    "merged_df_5 = merged_df_4.copy()\n",
    "merged_df_5['app_rating'] = merged_df_4['app_rating'].mean()\n",
    "\n",
    "print(merged_df_5.head(5))"
   ]
  },
  {
   "cell_type": "code",
   "execution_count": null,
   "id": "7d2cb700",
   "metadata": {},
   "outputs": [],
   "source": [
    "merged_df_4['app_week'] = merged_df_4['app_date_proper'].dt.strftime('%Y-%W')\n",
    "merged_df_4 = merged_df_4.sort_values('app_week')\n",
    "\n",
    "print(merged_df_4[['app_date_proper', 'app_week']].head())"
   ]
  },
  {
   "cell_type": "code",
   "execution_count": null,
   "id": "d86a1a79",
   "metadata": {},
   "outputs": [],
   "source": [
    "merged_df_5 = merged_df_4.groupby('app_week')['app_rating'].mean().reset_index()\n",
    "merged_df_5['app_rating'] = merged_df_5['app_rating'].round(2)"
   ]
  },
  {
   "cell_type": "code",
   "execution_count": null,
   "id": "03d00a81",
   "metadata": {},
   "outputs": [],
   "source": [
    "# Answer:\n",
    "\n",
    "print(merged_df_5)"
   ]
  },
  {
   "cell_type": "code",
   "execution_count": null,
   "id": "04a2f7ce",
   "metadata": {},
   "outputs": [],
   "source": [
    "merged_df_4.to_csv(\n",
    "    'hw_45',\n",
    "    sep=';',\n",
    "    index=False)"
   ]
  },
  {
   "cell_type": "code",
   "execution_count": null,
   "id": "15d8f0ac",
   "metadata": {},
   "outputs": [],
   "source": []
  }
 ],
 "metadata": {
  "kernelspec": {
   "display_name": "Python 3",
   "language": "python",
   "name": "python3"
  },
  "language_info": {
   "codemirror_mode": {
    "name": "ipython",
    "version": 3
   },
   "file_extension": ".py",
   "mimetype": "text/x-python",
   "name": "python",
   "nbconvert_exporter": "python",
   "pygments_lexer": "ipython3",
   "version": "3.13.0"
  }
 },
 "nbformat": 4,
 "nbformat_minor": 5
}
